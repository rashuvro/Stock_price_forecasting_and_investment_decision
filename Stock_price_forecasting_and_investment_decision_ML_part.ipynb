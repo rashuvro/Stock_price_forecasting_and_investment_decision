{
 "cells": [
  {
   "cell_type": "markdown",
   "metadata": {},
   "source": [
    "# Capstone Project: Analysis of Stock price and forecasting using LSTM\n",
    "\n",
    "## Rezoan Ahmed Shuvro"
   ]
  },
  {
   "cell_type": "code",
   "execution_count": 143,
   "metadata": {},
   "outputs": [],
   "source": [
    "# Import libraries\n",
    "from pandas_datareader import data, wb\n",
    "import pandas as pd\n",
    "import numpy as np\n",
    "import seaborn as sns\n",
    "import matplotlib.pyplot as plt\n",
    "import numpy as np\n",
    "import datetime\n",
    "%matplotlib inline\n",
    "from sklearn.metrics import mean_squared_error\n",
    "import warnings\n",
    "warnings.filterwarnings('ignore')"
   ]
  },
  {
   "cell_type": "markdown",
   "metadata": {},
   "source": [
    "## Prediction using LSTM"
   ]
  },
  {
   "cell_type": "code",
   "execution_count": 144,
   "metadata": {},
   "outputs": [],
   "source": [
    "import datetime\n",
    "ticker ='AAPL'\n",
    "# Microsoft\n",
    "# Start and End date of the stock prices\n",
    "start = datetime.datetime(2005, 1, 1)\n",
    "end = datetime.datetime(2020, 6, 6)\n",
    "df = data.DataReader(ticker, 'yahoo', start, end)"
   ]
  },
  {
   "cell_type": "code",
   "execution_count": 145,
   "metadata": {},
   "outputs": [
    {
     "data": {
      "text/html": [
       "<div>\n",
       "<style scoped>\n",
       "    .dataframe tbody tr th:only-of-type {\n",
       "        vertical-align: middle;\n",
       "    }\n",
       "\n",
       "    .dataframe tbody tr th {\n",
       "        vertical-align: top;\n",
       "    }\n",
       "\n",
       "    .dataframe thead th {\n",
       "        text-align: right;\n",
       "    }\n",
       "</style>\n",
       "<table border=\"1\" class=\"dataframe\">\n",
       "  <thead>\n",
       "    <tr style=\"text-align: right;\">\n",
       "      <th></th>\n",
       "      <th>High</th>\n",
       "      <th>Low</th>\n",
       "      <th>Open</th>\n",
       "      <th>Close</th>\n",
       "      <th>Volume</th>\n",
       "      <th>Adj Close</th>\n",
       "    </tr>\n",
       "    <tr>\n",
       "      <th>Date</th>\n",
       "      <th></th>\n",
       "      <th></th>\n",
       "      <th></th>\n",
       "      <th></th>\n",
       "      <th></th>\n",
       "      <th></th>\n",
       "    </tr>\n",
       "  </thead>\n",
       "  <tbody>\n",
       "    <tr>\n",
       "      <th>2020-06-01</th>\n",
       "      <td>322.350006</td>\n",
       "      <td>317.209991</td>\n",
       "      <td>317.750000</td>\n",
       "      <td>321.850006</td>\n",
       "      <td>20197800.0</td>\n",
       "      <td>321.850006</td>\n",
       "    </tr>\n",
       "    <tr>\n",
       "      <th>2020-06-02</th>\n",
       "      <td>323.440002</td>\n",
       "      <td>318.929993</td>\n",
       "      <td>320.750000</td>\n",
       "      <td>323.339996</td>\n",
       "      <td>21910700.0</td>\n",
       "      <td>323.339996</td>\n",
       "    </tr>\n",
       "    <tr>\n",
       "      <th>2020-06-03</th>\n",
       "      <td>326.200012</td>\n",
       "      <td>322.299988</td>\n",
       "      <td>324.660004</td>\n",
       "      <td>325.119995</td>\n",
       "      <td>26122800.0</td>\n",
       "      <td>325.119995</td>\n",
       "    </tr>\n",
       "    <tr>\n",
       "      <th>2020-06-04</th>\n",
       "      <td>325.619995</td>\n",
       "      <td>320.779999</td>\n",
       "      <td>324.390015</td>\n",
       "      <td>322.320007</td>\n",
       "      <td>21890100.0</td>\n",
       "      <td>322.320007</td>\n",
       "    </tr>\n",
       "    <tr>\n",
       "      <th>2020-06-05</th>\n",
       "      <td>331.750000</td>\n",
       "      <td>323.230011</td>\n",
       "      <td>323.350006</td>\n",
       "      <td>331.500000</td>\n",
       "      <td>34289200.0</td>\n",
       "      <td>331.500000</td>\n",
       "    </tr>\n",
       "  </tbody>\n",
       "</table>\n",
       "</div>"
      ],
      "text/plain": [
       "                  High         Low        Open       Close      Volume  \\\n",
       "Date                                                                     \n",
       "2020-06-01  322.350006  317.209991  317.750000  321.850006  20197800.0   \n",
       "2020-06-02  323.440002  318.929993  320.750000  323.339996  21910700.0   \n",
       "2020-06-03  326.200012  322.299988  324.660004  325.119995  26122800.0   \n",
       "2020-06-04  325.619995  320.779999  324.390015  322.320007  21890100.0   \n",
       "2020-06-05  331.750000  323.230011  323.350006  331.500000  34289200.0   \n",
       "\n",
       "             Adj Close  \n",
       "Date                    \n",
       "2020-06-01  321.850006  \n",
       "2020-06-02  323.339996  \n",
       "2020-06-03  325.119995  \n",
       "2020-06-04  322.320007  \n",
       "2020-06-05  331.500000  "
      ]
     },
     "execution_count": 145,
     "metadata": {},
     "output_type": "execute_result"
    }
   ],
   "source": [
    "df.tail()"
   ]
  },
  {
   "cell_type": "code",
   "execution_count": 146,
   "metadata": {},
   "outputs": [
    {
     "data": {
      "image/png": "[encoded data removed]",
      "text/plain": [
       "<Figure size 432x288 with 1 Axes>"
      ]
     },
     "metadata": {
      "needs_background": "light"
     },
     "output_type": "display_data"
    }
   ],
   "source": [
    "df_train = df.Close.loc['2005-01-01':'2019-12-31'].values\n",
    "df_test = df.Close.loc['2020-01-01':'2024-05-31'].values\n",
    "date_train = pd.date_range(start=\"2005-01-01\",end=\"2019-12-31\")\n",
    "#scaling\n",
    "from sklearn.preprocessing import MinMaxScaler\n",
    "sc= MinMaxScaler()\n",
    "df_train_scaled = sc.fit_transform(df_train.reshape(-1,1))\n",
    "_=plt.plot(df_train_scaled)\n"
   ]
  },
  {
   "cell_type": "code",
   "execution_count": 147,
   "metadata": {},
   "outputs": [
    {
     "data": {
      "text/html": [
       "<div>\n",
       "<style scoped>\n",
       "    .dataframe tbody tr th:only-of-type {\n",
       "        vertical-align: middle;\n",
       "    }\n",
       "\n",
       "    .dataframe tbody tr th {\n",
       "        vertical-align: top;\n",
       "    }\n",
       "\n",
       "    .dataframe thead th {\n",
       "        text-align: right;\n",
       "    }\n",
       "</style>\n",
       "<table border=\"1\" class=\"dataframe\">\n",
       "  <thead>\n",
       "    <tr style=\"text-align: right;\">\n",
       "      <th></th>\n",
       "      <th>High</th>\n",
       "      <th>Low</th>\n",
       "      <th>Open</th>\n",
       "      <th>Close</th>\n",
       "      <th>Volume</th>\n",
       "      <th>Adj Close</th>\n",
       "    </tr>\n",
       "    <tr>\n",
       "      <th>Date</th>\n",
       "      <th></th>\n",
       "      <th></th>\n",
       "      <th></th>\n",
       "      <th></th>\n",
       "      <th></th>\n",
       "      <th></th>\n",
       "    </tr>\n",
       "  </thead>\n",
       "  <tbody>\n",
       "    <tr>\n",
       "      <th>2020-06-01</th>\n",
       "      <td>322.350006</td>\n",
       "      <td>317.209991</td>\n",
       "      <td>317.750000</td>\n",
       "      <td>321.850006</td>\n",
       "      <td>20197800.0</td>\n",
       "      <td>321.850006</td>\n",
       "    </tr>\n",
       "    <tr>\n",
       "      <th>2020-06-02</th>\n",
       "      <td>323.440002</td>\n",
       "      <td>318.929993</td>\n",
       "      <td>320.750000</td>\n",
       "      <td>323.339996</td>\n",
       "      <td>21910700.0</td>\n",
       "      <td>323.339996</td>\n",
       "    </tr>\n",
       "    <tr>\n",
       "      <th>2020-06-03</th>\n",
       "      <td>326.200012</td>\n",
       "      <td>322.299988</td>\n",
       "      <td>324.660004</td>\n",
       "      <td>325.119995</td>\n",
       "      <td>26122800.0</td>\n",
       "      <td>325.119995</td>\n",
       "    </tr>\n",
       "    <tr>\n",
       "      <th>2020-06-04</th>\n",
       "      <td>325.619995</td>\n",
       "      <td>320.779999</td>\n",
       "      <td>324.390015</td>\n",
       "      <td>322.320007</td>\n",
       "      <td>21890100.0</td>\n",
       "      <td>322.320007</td>\n",
       "    </tr>\n",
       "    <tr>\n",
       "      <th>2020-06-05</th>\n",
       "      <td>331.750000</td>\n",
       "      <td>323.230011</td>\n",
       "      <td>323.350006</td>\n",
       "      <td>331.500000</td>\n",
       "      <td>34289200.0</td>\n",
       "      <td>331.500000</td>\n",
       "    </tr>\n",
       "  </tbody>\n",
       "</table>\n",
       "</div>"
      ],
      "text/plain": [
       "                  High         Low        Open       Close      Volume  \\\n",
       "Date                                                                     \n",
       "2020-06-01  322.350006  317.209991  317.750000  321.850006  20197800.0   \n",
       "2020-06-02  323.440002  318.929993  320.750000  323.339996  21910700.0   \n",
       "2020-06-03  326.200012  322.299988  324.660004  325.119995  26122800.0   \n",
       "2020-06-04  325.619995  320.779999  324.390015  322.320007  21890100.0   \n",
       "2020-06-05  331.750000  323.230011  323.350006  331.500000  34289200.0   \n",
       "\n",
       "             Adj Close  \n",
       "Date                    \n",
       "2020-06-01  321.850006  \n",
       "2020-06-02  323.339996  \n",
       "2020-06-03  325.119995  \n",
       "2020-06-04  322.320007  \n",
       "2020-06-05  331.500000  "
      ]
     },
     "execution_count": 147,
     "metadata": {},
     "output_type": "execute_result"
    }
   ],
   "source": [
    "df.tail()"
   ]
  },
  {
   "cell_type": "code",
   "execution_count": 148,
   "metadata": {},
   "outputs": [],
   "source": [
    "timestep =60"
   ]
  },
  {
   "cell_type": "code",
   "execution_count": 149,
   "metadata": {},
   "outputs": [],
   "source": [
    "X_train = []\n",
    "y_train = []\n",
    "for i in range(timestep, 3775):\n",
    "    X_train.append(df_train_scaled[i-timestep:i,0])\n",
    "    y_train.append(df_train_scaled[i,0])\n",
    "X_train,y_train = np.array(X_train),np.array(y_train)"
   ]
  },
  {
   "cell_type": "code",
   "execution_count": 150,
   "metadata": {},
   "outputs": [],
   "source": [
    "# reshape\n",
    "X_train = np.reshape(X_train,(X_train.shape[0],X_train.shape[1],1))"
   ]
  },
  {
   "cell_type": "markdown",
   "metadata": {},
   "source": [
    "LSTM layers"
   ]
  },
  {
   "cell_type": "code",
   "execution_count": 151,
   "metadata": {},
   "outputs": [],
   "source": [
    "from keras.models import Sequential\n",
    "from keras.layers import Dense\n",
    "from keras.layers import LSTM\n",
    "from keras.layers import Dropout"
   ]
  },
  {
   "cell_type": "code",
   "execution_count": 152,
   "metadata": {},
   "outputs": [],
   "source": [
    "regressor = Sequential()"
   ]
  },
  {
   "cell_type": "code",
   "execution_count": 153,
   "metadata": {},
   "outputs": [],
   "source": [
    "regressor.add(LSTM(units=100,return_sequences = True, input_shape = (X_train.shape[1],1)))\n",
    "regressor.add(Dropout(0.2))"
   ]
  },
  {
   "cell_type": "code",
   "execution_count": 154,
   "metadata": {},
   "outputs": [],
   "source": [
    "regressor.add(LSTM(units=100,return_sequences = True))\n",
    "regressor.add(Dropout(0.2))"
   ]
  },
  {
   "cell_type": "code",
   "execution_count": 155,
   "metadata": {},
   "outputs": [],
   "source": [
    "regressor.add(LSTM(units=100,return_sequences = True))\n",
    "regressor.add(Dropout(0.2))"
   ]
  },
  {
   "cell_type": "code",
   "execution_count": 156,
   "metadata": {},
   "outputs": [],
   "source": [
    "regressor.add(LSTM(units=100,return_sequences = False))\n",
    "regressor.add(Dropout(0.2))"
   ]
  },
  {
   "cell_type": "code",
   "execution_count": 157,
   "metadata": {},
   "outputs": [],
   "source": [
    "regressor.add(Dense(units=1))"
   ]
  },
  {
   "cell_type": "code",
   "execution_count": 158,
   "metadata": {},
   "outputs": [],
   "source": [
    "regressor.compile(optimizer='adam',loss='mean_squared_error')"
   ]
  },
  {
   "cell_type": "code",
   "execution_count": 159,
   "metadata": {},
   "outputs": [
    {
     "name": "stdout",
     "output_type": "stream",
     "text": [
      "_________________________________________________________________\n",
      "Layer (type)                 Output Shape              Param #   \n",
      "=================================================================\n",
      "lstm_21 (LSTM)               (None, 60, 100)           40800     \n",
      "_________________________________________________________________\n",
      "dropout_21 (Dropout)         (None, 60, 100)           0         \n",
      "_________________________________________________________________\n",
      "lstm_22 (LSTM)               (None, 60, 100)           80400     \n",
      "_________________________________________________________________\n",
      "dropout_22 (Dropout)         (None, 60, 100)           0         \n",
      "_________________________________________________________________\n",
      "lstm_23 (LSTM)               (None, 60, 100)           80400     \n",
      "_________________________________________________________________\n",
      "dropout_23 (Dropout)         (None, 60, 100)           0         \n",
      "_________________________________________________________________\n",
      "lstm_24 (LSTM)               (None, 100)               80400     \n",
      "_________________________________________________________________\n",
      "dropout_24 (Dropout)         (None, 100)               0         \n",
      "_________________________________________________________________\n",
      "dense_6 (Dense)              (None, 1)                 101       \n",
      "=================================================================\n",
      "Total params: 282,101\n",
      "Trainable params: 282,101\n",
      "Non-trainable params: 0\n",
      "_________________________________________________________________\n"
     ]
    }
   ],
   "source": [
    "#summary of the LSTM model\n",
    "regressor.summary()"
   ]
  },
  {
   "cell_type": "code",
   "execution_count": 160,
   "metadata": {},
   "outputs": [],
   "source": [
    "from keras.callbacks import EarlyStopping\n",
    "early_stopping_monitor = EarlyStopping(patience =1,min_delta=0.01)"
   ]
  },
  {
   "cell_type": "code",
   "execution_count": 161,
   "metadata": {},
   "outputs": [
    {
     "name": "stdout",
     "output_type": "stream",
     "text": [
      "Epoch 1/10\n",
      "3715/3715 [==============================] - 31s 8ms/step - loss: 0.0107\n",
      "Epoch 2/10\n",
      "3715/3715 [==============================] - 26s 7ms/step - loss: 0.0012\n",
      "Epoch 3/10\n",
      "3715/3715 [==============================] - 29s 8ms/step - loss: 0.0010\n",
      "Epoch 4/10\n",
      "3715/3715 [==============================] - 30s 8ms/step - loss: 9.1715e-04\n",
      "Epoch 5/10\n",
      "3715/3715 [==============================] - 33s 9ms/step - loss: 8.9491e-04\n",
      "Epoch 6/10\n",
      "3715/3715 [==============================] - 33s 9ms/step - loss: 0.0010\n",
      "Epoch 7/10\n",
      "3715/3715 [==============================] - 29s 8ms/step - loss: 8.3988e-04\n",
      "Epoch 8/10\n",
      "3715/3715 [==============================] - 32s 9ms/step - loss: 8.4736e-04\n",
      "Epoch 9/10\n",
      "3715/3715 [==============================] - 29s 8ms/step - loss: 8.3094e-04\n",
      "Epoch 10/10\n",
      "3715/3715 [==============================] - 28s 8ms/step - loss: 8.7177e-04\n"
     ]
    },
    {
     "data": {
      "text/plain": [
       "<keras.callbacks.History at 0x1b949bcbd30>"
      ]
     },
     "execution_count": 161,
     "metadata": {},
     "output_type": "execute_result"
    }
   ],
   "source": [
    "regressor.fit(X_train,y_train,epochs=10,batch_size=64, callbacks=[early_stopping_monitor])"
   ]
  },
  {
   "cell_type": "code",
   "execution_count": 162,
   "metadata": {},
   "outputs": [],
   "source": [
    "df_total_arr = df.Close.values\n",
    "inputs = df_total_arr[(len(df_total_arr))-len(df_test)-timestep:]\n",
    "inputs=inputs.reshape(-1,1)\n",
    "inputs=sc.transform(inputs)"
   ]
  },
  {
   "cell_type": "code",
   "execution_count": 163,
   "metadata": {},
   "outputs": [],
   "source": [
    "X_test = []\n",
    "for i in range(timestep,len(inputs)):\n",
    "    X_test.append((inputs[i-timestep:i,0]))\n",
    "X_test = np.array(X_test)"
   ]
  },
  {
   "cell_type": "code",
   "execution_count": 164,
   "metadata": {},
   "outputs": [],
   "source": [
    "# reshape and predicted stock price using the test dataset as rolling \n",
    "# This case is useful if one is interested to predict the next day's stock price. However, if one \n",
    "# wants to predict precides for a longer time in the future instead of using the test data (will not \n",
    "# be available) one needs to use the predicted stock price.\n",
    "\n",
    "X_test = np.reshape(X_test,(X_test.shape[0],X_test.shape[1],1))\n",
    "predicted_stock_price = regressor.predict(X_test)\n",
    "predicted_stock_price_before_normalize = predicted_stock_price\n",
    "predicted_stock_price1 = sc.inverse_transform(predicted_stock_price)"
   ]
  },
  {
   "cell_type": "code",
   "execution_count": 173,
   "metadata": {},
   "outputs": [
    {
     "data": {
      "text/plain": [
       "[<matplotlib.lines.Line2D at 0x1b94f336c50>]"
      ]
     },
     "execution_count": 173,
     "metadata": {},
     "output_type": "execute_result"
    },
    {
     "data": {
      "image/png": "[encoded data removed]",
      "text/plain": [
       "<Figure size 432x288 with 1 Axes>"
      ]
     },
     "metadata": {
      "needs_background": "light"
     },
     "output_type": "display_data"
    }
   ],
   "source": [
    "# Plot including test values for predcition\n",
    "plt.plot(predicted_stock_price1,color='r')\n",
    "plt.plot(df_test,color='B')"
   ]
  },
  {
   "cell_type": "code",
   "execution_count": 166,
   "metadata": {},
   "outputs": [],
   "source": [
    "# 5 months prediction\n",
    "predicted_stock_price = []\n",
    "df_train = df.Close.loc['2005-01-01':'2019-12-31']\n",
    "X_for_prediction = df_train.iloc[-61:-1].values\n",
    "X_for_prediction = sc.transform(X_for_prediction.reshape(-1,1))\n",
    "for i in range(103):\n",
    "    data = X_for_prediction[-60:]\n",
    "    data = np.reshape(data, (1, len(data), 1))\n",
    "    prediction = regressor.predict(data)\n",
    "    predicted_stock_price.append(prediction[0][0])\n",
    "    X_for_prediction = np.append(X_for_prediction, prediction, axis = 0)\n",
    "predicted_stock_price2 = np.reshape(predicted_stock_price, (len(predicted_stock_price), 1))\n",
    "predicted_stock_price2 = sc.inverse_transform(predicted_stock_price2)"
   ]
  },
  {
   "cell_type": "code",
   "execution_count": 172,
   "metadata": {},
   "outputs": [
    {
     "data": {
      "image/png": "[encoded data removed]",
      "text/plain": [
       "<Figure size 432x288 with 1 Axes>"
      ]
     },
     "metadata": {
      "needs_background": "light"
     },
     "output_type": "display_data"
    }
   ],
   "source": [
    "# Plot Without test values for predcition\n",
    "plt.plot(predicted_stock_price2,color='r')\n",
    "_= plt.plot(df_test,color='B')"
   ]
  },
  {
   "cell_type": "code",
   "execution_count": 170,
   "metadata": {},
   "outputs": [
    {
     "data": {
      "text/plain": [
       "19.20010169496747"
      ]
     },
     "execution_count": 170,
     "metadata": {},
     "output_type": "execute_result"
    }
   ],
   "source": [
    "# MSE including test values for predcition\n",
    "\n",
    "np.sqrt(mean_squared_error(predicted_stock_price1,df_test))"
   ]
  },
  {
   "cell_type": "code",
   "execution_count": 171,
   "metadata": {},
   "outputs": [
    {
     "data": {
      "text/plain": [
       "39.70716585438913"
      ]
     },
     "execution_count": 171,
     "metadata": {},
     "output_type": "execute_result"
    }
   ],
   "source": [
    "# MSE Without test values for predcition\n",
    "np.sqrt(mean_squared_error(predicted_stock_price2,df_test[:103]))"
   ]
  }
 ],
 "metadata": {
  "kernelspec": {
   "display_name": "Python 3",
   "language": "python",
   "name": "python3"
  },
  "language_info": {
   "codemirror_mode": {
    "name": "ipython",
    "version": 3
   },
   "file_extension": ".py",
   "mimetype": "text/x-python",
   "name": "python",
   "nbconvert_exporter": "python",
   "pygments_lexer": "ipython3",
   "version": "3.7.1"
  }
 },
 "nbformat": 4,
 "nbformat_minor": 2
}
